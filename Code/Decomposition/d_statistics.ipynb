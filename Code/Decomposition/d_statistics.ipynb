{
 "cells": [
  {
   "cell_type": "code",
   "execution_count": 1,
   "metadata": {},
   "outputs": [],
   "source": [
    "import networkx as nx\n",
    "import seaborn as sns\n",
    "import numpy as np"
   ]
  },
  {
   "cell_type": "code",
   "execution_count": 2,
   "metadata": {},
   "outputs": [],
   "source": [
    "dataset_name = 'tags-math'"
   ]
  },
  {
   "cell_type": "code",
   "execution_count": 3,
   "metadata": {},
   "outputs": [
    {
     "name": "stdout",
     "output_type": "stream",
     "text": [
      "Node level decomposition\n",
      "Number of nodes 1629\n",
      "Number of hyperedges 170476\n",
      "Average clustering coefficient at node level decomposition 0.6253218601493806\n",
      "Connected component proportion 0.9987722529158993\n"
     ]
    }
   ],
   "source": [
    "hyperedges = []\n",
    "G = nx.Graph()\n",
    "with open(f\"input/{dataset_name}-unique-hyperedges.txt\") as f:\n",
    "    for line in f:\n",
    "        nodes = [int(x) for x in line.split()]\n",
    "        G.add_nodes_from(nodes)\n",
    "        G.add_edges_from([(nodes[i], nodes[j]) for i in range(len(nodes)) for j in range(i + 1, len(nodes))])\n",
    "        hyperedges.append(nodes)\n",
    "print('Node level decomposition')\n",
    "print(f'Number of nodes {G.number_of_nodes()}')\n",
    "print(f'Number of hyperedges {len(hyperedges)}')\n",
    "print(f'Average clustering coefficient at node level decomposition {nx.average_clustering(G)}')\n",
    "connected_component_proportion = len(max(nx.connected_components(G), key=len)) / G.number_of_nodes()\n",
    "print(f'Connected component proportion {connected_component_proportion}')"
   ]
  },
  {
   "cell_type": "code",
   "execution_count": 4,
   "metadata": {},
   "outputs": [
    {
     "data": {
      "text/plain": [
       "2.6666666666666665"
      ]
     },
     "execution_count": 4,
     "metadata": {},
     "output_type": "execute_result"
    }
   ],
   "source": [
    "S = G.subgraph(max(nx.connected_components(G), key=len))\n",
    "(2 * nx.diameter(S))/3"
   ]
  },
  {
   "cell_type": "code",
   "execution_count": 5,
   "metadata": {},
   "outputs": [
    {
     "name": "stdout",
     "output_type": "stream",
     "text": [
      "Edge level decomposition\n",
      "Number of nodes 88367\n",
      "Average clustering coefficient at node level decomposition 0.7089948589316434\n",
      "Connected component proportion 0.9957563343782181\n"
     ]
    }
   ],
   "source": [
    "print('Edge level decomposition')\n",
    "\n",
    "G = nx.Graph()\n",
    "with open(f\"output/{dataset_name}-edge_level-decomposed.txt\") as f:\n",
    "    for i, line in enumerate(f):\n",
    "        nodes = [int(x) for x in line.split()]\n",
    "        G.add_nodes_from(nodes)\n",
    "        G.add_edges_from([(nodes[i], nodes[j]) for i in range(len(nodes)) for j in range(i + 1, len(nodes))])\n",
    "\n",
    "# Remove degree-zero nodes from G\n",
    "G.remove_nodes_from(list(nx.isolates(G)))\n",
    "print(f'Number of nodes {G.number_of_nodes()}')\n",
    "print(f'Average clustering coefficient at node level decomposition {nx.average_clustering(G)}')\n",
    "connected_component_proportion = len(max(nx.connected_components(G), key=len)) / G.number_of_nodes()\n",
    "print(f'Connected component proportion {connected_component_proportion}')"
   ]
  },
  {
   "cell_type": "code",
   "execution_count": 8,
   "metadata": {},
   "outputs": [],
   "source": [
    "S = G.subgraph(max(nx.connected_components(G), key=len))\n",
    "(2 * nx.diameter(S))/3"
   ]
  },
  {
   "cell_type": "code",
   "execution_count": null,
   "metadata": {},
   "outputs": [
    {
     "name": "stdout",
     "output_type": "stream",
     "text": [
      "Triangle level decomposition\n",
      "Number of nodes 222853\n",
      "Average clustering coefficient at node level decomposition 0.8492850971910678\n",
      "Connected component proportion 0.9129650487092388\n"
     ]
    }
   ],
   "source": [
    "print('Triangle level decomposition')\n",
    "\n",
    "G = nx.Graph()\n",
    "with open(f\"output/{dataset_name}-triangle_level-decomposed.txt\") as f:\n",
    "    for line in f:\n",
    "        nodes = [int(x) for x in line.split()]\n",
    "        G.add_nodes_from(nodes)\n",
    "        G.add_edges_from([(nodes[i], nodes[j]) for i in range(len(nodes)) for j in range(i + 1, len(nodes))])\n",
    "\n",
    "# Remove degree-zero nodes from G\n",
    "G.remove_nodes_from(list(nx.isolates(G)))\n",
    "print(f'Number of nodes {G.number_of_nodes()}')\n",
    "print(f'Average clustering coefficient at node level decomposition {nx.average_clustering(G)}')\n",
    "connected_component_proportion = len(max(nx.connected_components(G), key=len)) / G.number_of_nodes()\n",
    "print(f'Connected component proportion {connected_component_proportion}')"
   ]
  },
  {
   "cell_type": "code",
   "execution_count": null,
   "metadata": {},
   "outputs": [],
   "source": [
    "S = G.subgraph(max(nx.connected_components(G), key=len))\n",
    "(2 * nx.diameter(S))/3"
   ]
  },
  {
   "cell_type": "code",
   "execution_count": null,
   "metadata": {},
   "outputs": [
    {
     "name": "stdout",
     "output_type": "stream",
     "text": [
      "4-clique level decomposition\n",
      "Number of nodes 156129\n",
      "Average clustering coefficient at node level decomposition 0.7063790731518504\n",
      "Connected component proportion 0.35173478341627756\n"
     ]
    }
   ],
   "source": [
    "print('4-clique level decomposition')\n",
    "\n",
    "G = nx.Graph()\n",
    "with open(f\"output/{dataset_name}-4clique_level-decomposed.txt\") as f:\n",
    "    for line in f:\n",
    "        nodes = [int(x) for x in line.split()]\n",
    "        G.add_nodes_from(nodes)\n",
    "        G.add_edges_from([(nodes[i], nodes[j]) for i in range(len(nodes)) for j in range(i + 1, len(nodes))])\n",
    "\n",
    "\n",
    "print(f'Number of nodes {G.number_of_nodes()}')\n",
    "print(f'Average clustering coefficient at node level decomposition {nx.average_clustering(G)}')\n",
    "connected_component_proportion = len(max(nx.connected_components(G), key=len)) / G.number_of_nodes()\n",
    "print(f'Connected component proportion {connected_component_proportion}')"
   ]
  },
  {
   "cell_type": "code",
   "execution_count": null,
   "metadata": {},
   "outputs": [],
   "source": [
    "S = G.subgraph(max(nx.connected_components(G), key=len))\n",
    "(2 * nx.diameter(S))/3"
   ]
  }
 ],
 "metadata": {
  "kernelspec": {
   "display_name": "Python 3",
   "language": "python",
   "name": "python3"
  },
  "language_info": {
   "codemirror_mode": {
    "name": "ipython",
    "version": 3
   },
   "file_extension": ".py",
   "mimetype": "text/x-python",
   "name": "python",
   "nbconvert_exporter": "python",
   "pygments_lexer": "ipython3",
   "version": "3.10.12"
  },
  "orig_nbformat": 4
 },
 "nbformat": 4,
 "nbformat_minor": 2
}

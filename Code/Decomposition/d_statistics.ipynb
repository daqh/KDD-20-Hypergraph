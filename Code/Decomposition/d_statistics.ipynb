{
 "cells": [
  {
   "cell_type": "code",
   "execution_count": 1,
   "metadata": {},
   "outputs": [],
   "source": [
    "import networkx as nx"
   ]
  },
  {
   "cell_type": "code",
   "execution_count": 2,
   "metadata": {},
   "outputs": [],
   "source": [
    "dataset_name = 'coauth-Geology'"
   ]
  },
  {
   "cell_type": "code",
   "execution_count": 3,
   "metadata": {},
   "outputs": [
    {
     "name": "stdout",
     "output_type": "stream",
     "text": [
      "Number of nodes 1261129\n",
      "Number of hyperedges 1203895\n"
     ]
    }
   ],
   "source": [
    "num_nodes = 0\n",
    "hyperedges = []\n",
    "with open(f\"input/{dataset_name}-unique-hyperedges.txt\") as f:\n",
    "    for line in f:\n",
    "        nodes = [int(x) for x in line.split()]\n",
    "        hyperedges.append(nodes)\n",
    "        num_nodes = max(num_nodes, max(nodes))\n",
    "print(f'Number of nodes {num_nodes}')\n",
    "print(f'Number of hyperedges {len(hyperedges)}')"
   ]
  },
  {
   "cell_type": "code",
   "execution_count": 4,
   "metadata": {},
   "outputs": [
    {
     "name": "stdout",
     "output_type": "stream",
     "text": [
      "Number of cliques 351346\n"
     ]
    }
   ],
   "source": [
    "# Evvery row is a clique\n",
    "cliques = []\n",
    "with open(f\"output/{dataset_name}-4clique_level-decomposed.txt\") as f:\n",
    "    for line in f:\n",
    "        nodes = [int(x) for x in line.split()]\n",
    "        cliques.append(nodes)\n",
    "\n",
    "print(f'Number of cliques {len(cliques)}')"
   ]
  }
 ],
 "metadata": {
  "kernelspec": {
   "display_name": "Python 3",
   "language": "python",
   "name": "python3"
  },
  "language_info": {
   "codemirror_mode": {
    "name": "ipython",
    "version": 3
   },
   "file_extension": ".py",
   "mimetype": "text/x-python",
   "name": "python",
   "nbconvert_exporter": "python",
   "pygments_lexer": "ipython3",
   "version": "3.10.12"
  },
  "orig_nbformat": 4
 },
 "nbformat": 4,
 "nbformat_minor": 2
}

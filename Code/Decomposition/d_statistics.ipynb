{
 "cells": [
  {
   "cell_type": "code",
   "execution_count": 12,
   "metadata": {},
   "outputs": [],
   "source": [
    "import networkx as nx"
   ]
  },
  {
   "cell_type": "code",
   "execution_count": 13,
   "metadata": {},
   "outputs": [
    {
     "name": "stdout",
     "output_type": "stream",
     "text": [
      "Number of nodes 2558\n",
      "Number of hyperedges 141087\n"
     ]
    }
   ],
   "source": [
    "num_nodes = 0\n",
    "hyperedges = []\n",
    "with open(\"input/DAWN-unique-hyperedges.txt\") as f:\n",
    "    for line in f:\n",
    "        nodes = [int(x) for x in line.split()]\n",
    "        hyperedges.append(nodes)\n",
    "        num_nodes = max(num_nodes, max(nodes))\n",
    "print(f'Number of nodes {num_nodes}')\n",
    "print(f'Number of hyperedges {len(hyperedges)}')"
   ]
  },
  {
   "cell_type": "code",
   "execution_count": 14,
   "metadata": {},
   "outputs": [
    {
     "name": "stdout",
     "output_type": "stream",
     "text": [
      "Number of cliques 57749\n"
     ]
    }
   ],
   "source": [
    "# Evvery row is a clique\n",
    "cliques = []\n",
    "with open(\"output/DAWN-4clique_level-decomposed.txt\") as f:\n",
    "    for line in f:\n",
    "        nodes = [int(x) for x in line.split()]\n",
    "        cliques.append(nodes)\n",
    "\n",
    "print(f'Number of cliques {len(cliques)}')"
   ]
  }
 ],
 "metadata": {
  "kernelspec": {
   "display_name": "Python 3",
   "language": "python",
   "name": "python3"
  },
  "language_info": {
   "codemirror_mode": {
    "name": "ipython",
    "version": 3
   },
   "file_extension": ".py",
   "mimetype": "text/x-python",
   "name": "python",
   "nbconvert_exporter": "python",
   "pygments_lexer": "ipython3",
   "version": "3.10.12"
  },
  "orig_nbformat": 4
 },
 "nbformat": 4,
 "nbformat_minor": 2
}
